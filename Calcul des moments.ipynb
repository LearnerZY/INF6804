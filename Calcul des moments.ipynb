{
 "cells": [
  {
   "cell_type": "markdown",
   "metadata": {},
   "source": [
    "INF6804 Vision par ordinateur\n",
    "\n",
    "Polytechnique Montréal\n",
    "\n",
    "Exemple du calcul de moments"
   ]
  },
  {
   "cell_type": "code",
   "execution_count": 1,
   "metadata": {},
   "outputs": [],
   "source": [
    "import numpy as np\n",
    "import cv2\n",
    "import matplotlib.pyplot as plt"
   ]
  },
  {
   "cell_type": "markdown",
   "metadata": {},
   "source": [
    "Création d'une image binaire."
   ]
  },
  {
   "cell_type": "code",
   "execution_count": 2,
   "metadata": {},
   "outputs": [
    {
     "data": {
      "image/png": "[encoded data removed]",
      "text/plain": [
       "<matplotlib.figure.Figure at 0x10fb5e438>"
      ]
     },
     "metadata": {},
     "output_type": "display_data"
    }
   ],
   "source": [
    "image1 = np.zeros((100,100))\n",
    "image1[45:70,30:65] = 1\n",
    "plt.imshow(image1, plt.get_cmap('binary'))\n",
    "plt.show()"
   ]
  },
  {
   "cell_type": "markdown",
   "metadata": {},
   "source": [
    "Calcul des moments. Note: nuij correspond à $\\eta_{ij}$..."
   ]
  },
  {
   "cell_type": "code",
   "execution_count": 3,
   "metadata": {},
   "outputs": [
    {
     "name": "stdout",
     "output_type": "stream",
     "text": [
      "{'m00': 875.0, 'm10': 41125.0, 'm01': 49875.0, 'm20': 2022125.0, 'm11': 2344125.0, 'm02': 2888375.0, 'm30': 103429375.0, 'm21': 115261125.0, 'm12': 135753625.0, 'm03': 169824375.0, 'mu20': 89250.0, 'mu11': -4.656612873077393e-10, 'mu02': 45499.999999999534, 'mu30': 0.0, 'mu21': 4.377216100692749e-08, 'mu12': 3.67872416973114e-08, 'mu03': 2.9802322387695312e-08, 'nu20': 0.11657142857142859, 'nu11': -6.0821066097337385e-16, 'nu02': 0.05942857142857083, 'nu30': 0.0, 'nu21': 1.932759672877267e-15, 'nu12': 1.6243405761415332e-15, 'nu03': 1.315921479405799e-15}\n"
     ]
    }
   ],
   "source": [
    "moments1 = cv2.moments(image1)\n",
    "print(moments1)"
   ]
  },
  {
   "cell_type": "markdown",
   "metadata": {},
   "source": [
    "Aire et centre de masse à partir des moments."
   ]
  },
  {
   "cell_type": "code",
   "execution_count": 4,
   "metadata": {},
   "outputs": [
    {
     "name": "stdout",
     "output_type": "stream",
     "text": [
      "875.0\n",
      "47.0\n",
      "57.0\n"
     ]
    }
   ],
   "source": [
    "#Aire\n",
    "print(moments1['m00'])\n",
    "#Centre de masse en X\n",
    "print(moments1['m10']/moments1['m00'])\n",
    "#Centre de masse en Y\n",
    "print(moments1['m01']/moments1['m00'])"
   ]
  },
  {
   "cell_type": "markdown",
   "metadata": {},
   "source": [
    "Calcul des moments invariants de Hu."
   ]
  },
  {
   "cell_type": "code",
   "execution_count": 5,
   "metadata": {},
   "outputs": [
    {
     "name": "stdout",
     "output_type": "stream",
     "text": [
      "[[ 1.76000000e-01]\n",
      " [ 3.26530612e-03]\n",
      " [ 4.38378699e-29]\n",
      " [ 1.31924115e-29]\n",
      " [ 1.91311512e-58]\n",
      " [-4.52311253e-31]\n",
      " [-2.53084598e-58]]\n"
     ]
    }
   ],
   "source": [
    "momentsdeHu1 = cv2.HuMoments(moments1)\n",
    "print(momentsdeHu1)"
   ]
  },
  {
   "cell_type": "markdown",
   "metadata": {},
   "source": [
    "Création d'une deuxième image qui consiste en une mise à l'échelle et une translation. "
   ]
  },
  {
   "cell_type": "code",
   "execution_count": 6,
   "metadata": {},
   "outputs": [
    {
     "data": {
      "image/png": "[encoded data removed]",
      "text/plain": [
       "<matplotlib.figure.Figure at 0x10fb5e080>"
      ]
     },
     "metadata": {},
     "output_type": "display_data"
    }
   ],
   "source": [
    "image2 = np.zeros((100,100))\n",
    "image2[35:85,20:90] = 1\n",
    "plt.imshow(image2, plt.get_cmap('binary'))\n",
    "plt.show()"
   ]
  },
  {
   "cell_type": "markdown",
   "metadata": {},
   "source": [
    "Calcul des moments de Hu de cette deuxième image. Les moments de Hu étant invariants (avec une résolution infinie), on obtient les mêmes valeurs ou des valeurs proches pour plusieurs de ceux-ci."
   ]
  },
  {
   "cell_type": "code",
   "execution_count": 7,
   "metadata": {},
   "outputs": [
    {
     "name": "stdout",
     "output_type": "stream",
     "text": [
      "{'m00': 3500.0, 'm10': 190750.0, 'm01': 208250.0, 'm20': 11824750.0, 'm11': 11349625.0, 'm02': 13119750.0, 'm30': 800196250.0, 'm21': 703572625.0, 'm12': 715026375.0, 'm03': 867361250.0, 'mu20': 1428874.9999999981, 'mu11': -1.862645149230957e-09, 'mu02': 728874.9999999981, 'mu30': 1.1920928955078125e-07, 'mu21': 1.043081283569336e-07, 'mu12': 9.685754776000977e-08, 'mu03': 1.1920928955078125e-07, 'nu20': 0.11664285714285702, 'nu11': -1.5205266524334346e-16, 'nu02': 0.05949999999999986, 'nu30': 1.6449018492572488e-16, 'nu21': 1.4392891181000928e-16, 'nu12': 1.3364827525215145e-16, 'nu03': 1.6449018492572488e-16}\n",
      "[[ 1.76142857e-01]\n",
      " [ 3.26530612e-03]\n",
      " [ 1.27358243e-31]\n",
      " [ 1.84008881e-31]\n",
      " [ 2.79925555e-62]\n",
      " [-3.56331303e-34]\n",
      " [-3.14807935e-63]]\n"
     ]
    }
   ],
   "source": [
    "moments2 = cv2.moments(image2)\n",
    "print(moments2)\n",
    "momentsdeHu2 = cv2.HuMoments(moments2)\n",
    "print(momentsdeHu2)"
   ]
  },
  {
   "cell_type": "code",
   "execution_count": 8,
   "metadata": {},
   "outputs": [
    {
     "data": {
      "image/png": "[encoded data removed]",
      "text/plain": [
       "<matplotlib.figure.Figure at 0x117e02320>"
      ]
     },
     "metadata": {},
     "output_type": "display_data"
    }
   ],
   "source": [
    "image3 = np.zeros((100,100))\n",
    "image3[35:85,20:40] = 1\n",
    "plt.imshow(image3, plt.get_cmap('binary'))\n",
    "plt.show()"
   ]
  },
  {
   "cell_type": "code",
   "execution_count": 9,
   "metadata": {},
   "outputs": [
    {
     "name": "stdout",
     "output_type": "stream",
     "text": [
      "[[0.2415  ]\n",
      " [0.030625]\n",
      " [0.      ]\n",
      " [0.      ]\n",
      " [0.      ]\n",
      " [0.      ]\n",
      " [0.      ]]\n"
     ]
    }
   ],
   "source": [
    "moments3 = cv2.moments(image3)\n",
    "momentsdeHu3 = cv2.HuMoments(moments3)\n",
    "print(momentsdeHu3)"
   ]
  },
  {
   "cell_type": "code",
   "execution_count": null,
   "metadata": {},
   "outputs": [],
   "source": []
  }
 ],
 "metadata": {
  "kernelspec": {
   "display_name": "Python 3",
   "language": "python",
   "name": "python3"
  },
  "language_info": {
   "codemirror_mode": {
    "name": "ipython",
    "version": 3
   },
   "file_extension": ".py",
   "mimetype": "text/x-python",
   "name": "python",
   "nbconvert_exporter": "python",
   "pygments_lexer": "ipython3",
   "version": "3.6.3"
  }
 },
 "nbformat": 4,
 "nbformat_minor": 2
}
